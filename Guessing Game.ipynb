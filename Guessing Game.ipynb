{
 "cells": [
  {
   "cell_type": "code",
   "execution_count": 1,
   "metadata": {},
   "outputs": [],
   "source": [
    "import random\n",
    "\n",
    "ran_num = random.randint(1,100)"
   ]
  },
  {
   "cell_type": "code",
   "execution_count": 2,
   "metadata": {},
   "outputs": [
    {
     "name": "stdout",
     "output_type": "stream",
     "text": [
      "WELCOME TO GUESS GAME!\n",
      "I'm thinking of a number between 1 and 100\n",
      "If your guess is more than 10 away from my nuumber, I'll tell you you're COLD\n",
      "If your guess is within 10 of my number, I'll tell you you're WARM\n",
      "If your guess is farther than your most recent guess, I'll say you're getting COLDER\n",
      "If your guess is closer than your most recent guess, I'll say you're getting WARMER\n",
      "LET'S PLAY!\n"
     ]
    }
   ],
   "source": [
    "print(\"WELCOME TO GUESS GAME!\")\n",
    "print(\"I'm thinking of a number between 1 and 100\")\n",
    "print(\"If your guess is more than 10 away from my nuumber, I'll tell you you're COLD\")\n",
    "print(\"If your guess is within 10 of my number, I'll tell you you're WARM\")\n",
    "print(\"If your guess is farther than your most recent guess, I'll say you're getting COLDER\")\n",
    "print(\"If your guess is closer than your most recent guess, I'll say you're getting WARMER\")\n",
    "print(\"LET'S PLAY!\")"
   ]
  },
  {
   "cell_type": "code",
   "execution_count": 3,
   "metadata": {},
   "outputs": [],
   "source": [
    "guess_list = [0]"
   ]
  },
  {
   "cell_type": "code",
   "execution_count": 4,
   "metadata": {},
   "outputs": [
    {
     "name": "stdout",
     "output_type": "stream",
     "text": [
      "I'm thinking of a number between 1 and 100.\n",
      " What is your guess? 10\n",
      "WARM!\n",
      "Guess is low\n",
      "I'm thinking of a number between 1 and 100.\n",
      " What is your guess? 50\n",
      "COLDER!\n",
      "Guess is low\n",
      "I'm thinking of a number between 1 and 100.\n",
      " What is your guess? 60\n",
      "CONGRATS, YOU GUESSED IT IN ONLY 3 GUESSES!\n"
     ]
    }
   ],
   "source": [
    "while True:\n",
    "    \n",
    "    #Taking user input\n",
    "    guess = int(input(\"I'm thinking of a number between 1 and 100.\\n What is your guess? \"))\n",
    "    \n",
    "    #Checking 1st condition\n",
    "    if guess < 1 or guess > 100:\n",
    "        print('OUT OF BOUNDS! Please try again')\n",
    "        continue #Return to top of enclopsing loop.\n",
    "    \n",
    "    #Checking guess to random value \n",
    "    if guess == ran_num:\n",
    "        print(f\"CONGRATS, YOU GUESSED IT IN ONLY {len(guess_list)} GUESSES!\")\n",
    "        break\n",
    "    \n",
    "    #if guess is incorrect, add guess to the list\n",
    "    guess_list.append(guess)\n",
    "    \n",
    "    \n",
    "    #When testing the furst guess, guesses[-2] == 0, which evaluates to False\n",
    "    # and brings us down to the second section\n",
    "    if guess_list[-2]:\n",
    "        if abs(guess) < abs(guess_list[-2]):\n",
    "            print(\"WARMER!\")\n",
    "        else:\n",
    "            print(\"COLDER!\")\n",
    "    else:\n",
    "        if abs(guess) <= 10:\n",
    "            print(\"WARM!\")\n",
    "        else:\n",
    "            print(\"COLD!\")\n",
    "    \n",
    "    #if guess < ran_num:\n",
    "        #print('Guess is low')\n",
    "    #elif guess > ran_num:\n",
    "        #print('Guess is high')"
   ]
  },
  {
   "cell_type": "code",
   "execution_count": null,
   "metadata": {},
   "outputs": [],
   "source": []
  }
 ],
 "metadata": {
  "kernelspec": {
   "display_name": "Python 3",
   "language": "python",
   "name": "python3"
  },
  "language_info": {
   "codemirror_mode": {
    "name": "ipython",
    "version": 3
   },
   "file_extension": ".py",
   "mimetype": "text/x-python",
   "name": "python",
   "nbconvert_exporter": "python",
   "pygments_lexer": "ipython3",
   "version": "3.8.3"
  }
 },
 "nbformat": 4,
 "nbformat_minor": 4
}
